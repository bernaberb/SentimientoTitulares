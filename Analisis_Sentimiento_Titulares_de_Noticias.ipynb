{
  "nbformat": 4,
  "nbformat_minor": 0,
  "metadata": {
    "colab": {
      "name": "Analisis Sentimiento Titulares de Noticias.ipynb",
      "provenance": [],
      "collapsed_sections": [],
      "authorship_tag": "ABX9TyP5vFNwQXCk0HcABf4Cffpx",
      "include_colab_link": true
    },
    "kernelspec": {
      "name": "python3",
      "display_name": "Python 3"
    },
    "language_info": {
      "name": "python"
    }
  },
  "cells": [
    {
      "cell_type": "markdown",
      "metadata": {
        "id": "view-in-github",
        "colab_type": "text"
      },
      "source": [
        "<a href=\"https://colab.research.google.com/github/bernaberb/SentimientoTitulares/blob/main/Analisis_Sentimiento_Titulares_de_Noticias.ipynb\" target=\"_parent\"><img src=\"https://colab.research.google.com/assets/colab-badge.svg\" alt=\"Open In Colab\"/></a>"
      ]
    },
    {
      "cell_type": "markdown",
      "source": [
        "# Detector de sentimiento de titulares de noticias en español\n",
        "\n",
        "En este proyecto Python vamos a levantar los titulares de noticias en español de la página de [TodoNoticias](https://tn.com.ar) para luego intentar detectar el sentimiento de esa noticia (positivo, negativo o neutro) y mostrar la información.\n",
        "\n",
        "Para el análisis de sentimiento utilicé la librería [PySentimiento](https://github.com/pysentimiento/pysentimiento) de [Juan Manuel Perez](https://github.com/finiteautomata), Juan Carlos Giudici y Franco M. Luque. Para el web scrapping utilicé [Beautiful Soup](https://www.crummy.com/software/BeautifulSoup/bs4/doc/). Para el manejo y visualización de la información use Pandas, Seaborn y Matplotlib."
      ],
      "metadata": {
        "id": "bAgqJjxx84Eh"
      }
    },
    {
      "cell_type": "code",
      "execution_count": null,
      "metadata": {
        "id": "TcygZrPKQLFk"
      },
      "outputs": [],
      "source": [
        "!pip install pysentimiento"
      ]
    },
    {
      "cell_type": "code",
      "source": [
        "import requests\n",
        "from bs4 import BeautifulSoup\n",
        "import matplotlib.pyplot as plt\n",
        "import seaborn as sns\n",
        "import pandas as pd"
      ],
      "metadata": {
        "id": "usqxwN6uSLr2"
      },
      "execution_count": 102,
      "outputs": []
    },
    {
      "cell_type": "markdown",
      "source": [
        "### Vamos a levantar los titulares del sitio de noticias www.tn.com.ar\n",
        "Con una inspección de la web vemos que los titulares están en la etiqueta H3, por lo que usamos la herramienta de web scrapping Beautiful Soup para quedarnos con estos en una lista"
      ],
      "metadata": {
        "id": "8PbworEVrFMM"
      }
    },
    {
      "cell_type": "code",
      "source": [
        "url='https://www.tn.com.ar/'\n",
        "response = requests.get(url)"
      ],
      "metadata": {
        "id": "Eei57RguSMxt"
      },
      "execution_count": 103,
      "outputs": []
    },
    {
      "cell_type": "code",
      "source": [
        "soup = BeautifulSoup(response.text, 'html.parser')\n",
        "\n",
        "pat = soup.find('body').find_all('h3')\n",
        "\n",
        "headlines = []\n",
        "for x in pat:\n",
        "        hl = x.text.strip()\n",
        "        headlines.append((hl))\n",
        "\n",
        "print(headlines)"
      ],
      "metadata": {
        "colab": {
          "base_uri": "https://localhost:8080/"
        },
        "id": "l1x8r6DYUHgo",
        "outputId": "a10dcae1-c036-43f0-dfab-6d39c34fc9ab"
      },
      "execution_count": 104,
      "outputs": [
        {
          "output_type": "stream",
          "name": "stdout",
          "text": [
            "['Guerra Rusia-Ucrania', 'Crisis en el Frente de Todos', 'Qatar 2022', 'Acampe en la 9 de Julio', 'Dólar blue hoy', 'Argentina tuvo un sorteo favorable: qué potencias podría enfrentar para llegar a la final', 'LOS RIVALES DE ARGENTINA', 'Arabia Saudita, el primer examen de la Selección', 'Polonia y el poder de fuego de Robert Lewandowski', 'México, de \"Tata\" Martino, en el camino de Scaloni', 'Así quedaron todos los grupos del Mundial Qatar 2022', 'El fixture de la Selección argentina en el Mundial de Qatar: día y hora de los partidos', 'Lionel Scaloni, tras el sorteo del Mundial: “Creo que podremos hacer una buena fase de grupos”', 'Argentina debutará ante Arabia Saudita y sus otros rivales serán México y Polonia', 'El emotivo homenaje a Diego Maradona en la ceremonia del sorteo del Mundial de Qatar 2022', 'Los 10 jugadores más caros que estarán en el Mundial de Qatar 2022: una lista con ausencias notables', 'Se sorteó el Mundial Qatar 2022 y en las redes se acordaron de Chile, que no clasificó: los memes', \"De dónde viene la frase “el grupo de la muerte” y la curiosa historia del DT que la inventó en México '86\", 'Todos los goles de Lionel Messi en Mundiales', 'Ecuador, de la mano de Gustavo Alfaro, abrirá el Mundial de Qatar ante el local', 'Ocho países para tres lugares: los equipos que aún pueden clasificarse al Mundial en los repechajes', 'La mascota del Mundial 2022 parece un fantasma y las redes se llenaron de memes para River', 'El Kun Agüero y Sofía Calzetti se vistieron de gala para el sorteo del mundial', 'El Gobierno levantó las restricciones migratorias y reabrió todas las fronteras', 'Condenaron a Ricardo Jaime y Julio de Vido por la compra de trenes chatarra a España y Portugal', 'Se terminó el sueño de Cerúndolo: cayó ante Casper Ruud en semifinales del Masters 1000 de Miami', 'Confirmaron 34 muertes por coronavirus y 1927 nuevos casos en las últimas 24 horas', 'Harto de los piquetes, pasó con su camioneta y le tiraron piedras', 'Mató y violó a más de 100 hombres y niños: Carl Panzram, el peor criminal que haya existido', 'Falta gasoil para la cosecha y el campo pide que el Gobierno tome medidas', 'La casa del horror en La Tablada: un hombre convivió una década con su mamá enterrada en el jardín', 'Un basural en la 9 de Julio: así quedó la avenida tras el multitudinario acampe piquetero', 'Tiene 9 años y creó un negocio en la escuela: recaudaba hasta $5000 por día y se lo prohibieron', 'Interna por la inflación: Roberto Feletti dice que el Indec “sobreestima” la suba de precios', 'A 40 AÑOS DE MALVINAS', 'Martin Balza: “Fue una guerra absurda construida sobre una causa justa”', 'La carta que mi papá me escribió antes de morir en Malvinas', 'Operación Rosario: los primeros argentinos que desembarcaron en las islas recuerdan su historia', 'Videos', 'Así fueron los tres días de acampe en la 9 de julio: caos de tránsito, carpas y despliegue policial', 'El testimonio de las enfermeras que asistieron a los heridos en la guerra de Malvinas: \"Todavía recordamos el dolor de los soldados\"', 'Murió en la guerra y sus padres conservan su habitación intacta: “Es nuestro templo”', '“Nos están matando\": por los piquetes, cada vez más comerciantes cierran sus locales en Avenida de Mayo', 'Tres soldados elegidos por los militares para ser la cara de la guerra cuentan la verdadera historia', 'El barrio del olvido: se inauguró hace 11 años en José C. Paz y terminó en un abandono absoluto', 'Diez días como un yerbatero: la vida de los cosecheros y el injusto reparto del fruto de su esfuerzo', 'Comer de las sobras: viven en la pobreza extrema y juntan de la basura para alimentar a los chicos', 'Volvió de Malvinas, pero no recibió su medalla: 40 años después la encontró gracias a un colectivero', 'Entrevista con Canticuénticos, el grupo favorito de los chicos cuya canción ayudó en casos de abuso', 'La bronca de los vecinos de Merlo, que viven a merced de la mafia de los cañitos del medidor de gas', 'TN en Qatar: guía para saber cómo es el viaje a la casa del Mundial 2022', 'La modelo afroargentina que brilla en las paserales y en el hip hop: \"Es mi venganza\"', 'Las víctimas del Estafador Argentino de Tinder viven en pánico: “Roby” pidió salir en libertad', 'Se enamoraron mientras él hacía el servicio militar en Corea y se casaron en Florencio Varela', 'Mujeres que cambiaron sus vidas gracias a un tatuaje sanador: de las cicatrices al arte', 'La historia de Gervasio, el jabalí que se cree perro: vive en Mar Azul y camina solo hacia la playa', 'Instagram: las nuevas funciones para los mensajes directos que llegan a la red social', 'Geraldine La Rosa, la esposa de Gallardo, desmintió el noviazgo entre el técnico y Alina Moine', 'Cayó Coco, el exchofer de Moria Casán, por vender cocaína en Mar del Plata', 'El cambalache de Cristina Kirchner con el FMI y la plata robada', 'Alberto Fernández habló sobre Malvinas en un medio británico: “Tengo claro que no son inglesas”', 'El Ministerio de Salud eliminó la recomendación de distanciamiento social obligatorio', 'Cayó la banda de “Marcos” en la 1-11-14: detuvieron a 10 personas por la venta de paco, cocaína y marihuana', 'Dejó su casa y vive en una camioneta para recibirse de docente: “Sé que voy a cumplir mi sueño”', 'Inflación sin freno: en abril aumentan las expensas, las prepagas y los colegios', 'Nacha Guevara recibirá casi 12 millones de pesos de indemnización por haber tenido que exiliarse', 'Por la invasión de Rusia, uno de cada cuatro ucranianos ya debió abandonar su casa', 'No se salvó ni Wanda Nara: la empresaria llegó a la Argentina y quedó varada en la Riccheri', 'Dólar ahorro: se renueva el cupo para comprar US$200 a un precio más bajo que el blue', 'Murió el famoso fotógrafo Patrick Demarchelier, uno de los favoritos de Lady Di', 'Segundo día de corte en la Riccheri: vecinos protestan por la falta de luz y agua', 'Una testigo vio llorar a Nora Dalmasso por una discusión con su esposo pocos días antes del crimen', 'Imputaron a cuatro personas por los afiches contra Cristina Kirchner: serán indagados por hostigamiento y daño agravado', '“¿El tiro dónde va?”: se filtró un audio entre un sicario y un conocido cirujano preso por abuso', 'La razón por la que Will Smith no fue arrestado tras pegarle una cachetada a Chris Rock', 'Es campeona nacional de gimnasia aeróbica y necesita ayuda para viajar a competir a Uruguay', 'México: encontraron seis cabezas humanas y restos de cuerpos en un vehículo estacionado', 'Las sugerencias que le hizo el FMI al Gobierno sobre el dólar y la política del Banco Central', 'Margarita Barrientos, con Levy Yeyati: “No le podemos pedir al Estado que nos mantenga con planes”', 'La familia Zapp y un viaje de 22 años: “Les demostramos a nuestros hijos que los sueños se cumplen”', 'Opinión', 'Regular contenidos de redes sociales: los estudios pioneros ya existen y tienen otro diagnóstico', 'Héroe, la banda de pop lírico que grabó videoclips en Malvinas: “Estuvimos vigilados todo el tiempo”', 'Cómo compartir videos de YouTube en Snapchat', 'Marcelo Tinelli cumple 62 años: los amores que lo acompañaron durante sus 40 años en la TV', 'WhatsApp deja de funcionar en estos celulares', 'Mataron por la espalda y delante de su esposa a un ciclista en un intento de robo en Pergamino', 'La China Suárez mostró el original detalle de su vestidor: colección de zapatillas y guiño al teatro', 'Apuestas en el fútbol argentino: investigan una red de representantes que tienen nexos con jugadores', 'TN en Qatar: el desierto, la maravilla natural que albergará a cientos de hinchas durante el Mundial', 'El duro testimonio de una mujer en el acampe piquetero: “La plata nunca alcanza para vivir”', 'Lola del Carril, la relatora que a sus 23 años hará historia en el fútbol argentino', 'Coparticipación: 19 gobernadores le enviaron una carta a la Corte con duras advertencias en la pelea con CABA', 'Habló la chica amenazada con ser violada y asesinada: “Nunca tuve problemas con mis compañeros”', 'Desde Italia 90 a Shakira y Ricky Martin: las canciones que marcaron a los Mundiales', '¿Mica Viciconte es la nueva Samanta Casais?: tendría un título en gastronomía', 'Sorpresa en Mar del Sur por la espuma que cubrió la playa: a qué se debe', 'Crimen de Nora Dalmasso: Facundo Macarrón acusó a las amigas de su madre de proteger a Miguel Rohrer', 'Nico Occhiato reaccionó luego de que Flor Vigna dijera que su vida sexual mejoró con Luciano Castro', 'El recuerdo de Federico Storani, a seis años de la muerte de su hijo Manuel: “Una parte mía se fue con él”', 'Manu Lanzini, después de volcar con su auto en Inglaterra: “Fue un susto muy grande”', 'Estados Unidos anunció que los pasaportes tendrán la opción “X” para personas trans y no binarias', 'El Gobierno pone la mira en la Hidrovía y choca con La Cámpora', 'Opinión', 'Alberto pacta con el diablo, pero la inflación le gana', 'El populismo ajusta por medio de una mayor presión fiscal', 'Milei, en tránsito a jefe de una nueva facción política', 'China es el segundo mejor mercado para Argentina, pero genera dudas', 'El doble de Lionel Messi sorprendió a Laurita Fernández en “Bienvenidos a bordo”', 'Qué es el Grupo Wagner, la organización fantasma del ejército de Vladimir Putin que combate en Ucrania', 'El cachetazo de la política que antecedió al de Hollywood: qué dicen Graciela Camaño y Carlos Kunkel, 12 años después', 'Un bebé nació con dos cabezas, tres manos y dos corazones: no lo quieren operar y los padres esperan un milagro', '“El hotel de los famosos”: Melody Luz invitó a Alex Caniggia a pasar la noche en la suite', 'Mirá TN las 24 horas', 'Técnicas que aumentan las posibilidades de orgasmo femenino', 'Facebook habría reportado menos imágenes de abuso infantil de las que encuentra', 'Quiso abrir una botella de champagne con un cuchillo pero lo que voló no fue el corcho', 'Las fotos del día', '\"Violencia simbólica\": Cerruti acusó a los medios y las redes sociales por los ataques a Cristina Kirchner', 'Una empresa del agro recaudó más de 11 millones de dólares en una obligación negociable', 'Te va a interesar', '“La Ciudad Corre”, una media maratón que suma sorteos y premios al cierre de la jornada', 'La palta reduce el riesgo de infarto', 'Bill Murray, un actor diferente amado por el público: no tiene agente y casi no atiende el teléfono', 'TN Autos', 'Toyota presentó el nuevo Corolla deportivo con motor turbo de 304 caballos', 'Cuánto podrías pedir por tu auto si lo quisieras vender en abril', 'Por las trabas a la importación, los autos argentinos dominan la venta de 0 km', 'TN Campo', 'Falta gasoil para la cosecha y el campo pide que el Gobierno tome medidas', 'Misterio en un campo de Bolívar: buscan a un peón rural que desapareció hace más de 48 horas', 'Mercado de Liniers: siguen subiendo los precios de las categorías para el consumo interno', 'TN Podcast', 'Cómo nos transforma sabernos pertenecientes al alma familiar', 'Meditación para reconfigurar nuestros estados de malestar', '¿Cómo abordar la comunicación política en tiempos de crisis? Con Mario Riorda', 'La Viola', 'Harry Styles publicó “As It Was” y no vas a parar de bailar', 'La Beriso llega a Obras y lo vas a ver en vivo en la web de TN', 'Ricardo Montaner se vuelve arrabalero y presenta “El día que me quieras”', 'TN Estilo', 'El Kun Agüero y Sofía Calzetti se vistieron de gala para el sorteo del mundial', 'Ofelia Fernández fue tendencia por su look en la Legislatura porteña', 'Fedez, el marido de Chiara Ferragni, fue dado de alta luego de ser operado de un tumor en el páncrea', 'Con Bienestar', 'Técnicas que aumentan las posibilidades de orgasmo femenino', 'Brasil: crecen los casos de síndrome respiratorio agudo severo en niños', 'Seguinos en las redes', 'Descargate la app de TN', 'Últimas noticias', 'Secciones', 'Sitios amigos', 'Descargate la app de TN', 'Seguinos en las redes']\n"
          ]
        }
      ]
    },
    {
      "cell_type": "markdown",
      "source": [
        "Elimino los primeros 5 ya que no son titulares, son los \"temas de hoy\""
      ],
      "metadata": {
        "id": "2jzVt0Ek5jR0"
      }
    },
    {
      "cell_type": "code",
      "source": [
        "del headlines[0:5]"
      ],
      "metadata": {
        "id": "Y7o-Y8WkVDzR"
      },
      "execution_count": 105,
      "outputs": []
    },
    {
      "cell_type": "code",
      "source": [
        "print(headlines)"
      ],
      "metadata": {
        "colab": {
          "base_uri": "https://localhost:8080/"
        },
        "id": "CJlALyGvWFB1",
        "outputId": "6f037541-0b79-4d4a-d8ed-10f18d92f64e"
      },
      "execution_count": 106,
      "outputs": [
        {
          "output_type": "stream",
          "name": "stdout",
          "text": [
            "['Argentina tuvo un sorteo favorable: qué potencias podría enfrentar para llegar a la final', 'LOS RIVALES DE ARGENTINA', 'Arabia Saudita, el primer examen de la Selección', 'Polonia y el poder de fuego de Robert Lewandowski', 'México, de \"Tata\" Martino, en el camino de Scaloni', 'Así quedaron todos los grupos del Mundial Qatar 2022', 'El fixture de la Selección argentina en el Mundial de Qatar: día y hora de los partidos', 'Lionel Scaloni, tras el sorteo del Mundial: “Creo que podremos hacer una buena fase de grupos”', 'Argentina debutará ante Arabia Saudita y sus otros rivales serán México y Polonia', 'El emotivo homenaje a Diego Maradona en la ceremonia del sorteo del Mundial de Qatar 2022', 'Los 10 jugadores más caros que estarán en el Mundial de Qatar 2022: una lista con ausencias notables', 'Se sorteó el Mundial Qatar 2022 y en las redes se acordaron de Chile, que no clasificó: los memes', \"De dónde viene la frase “el grupo de la muerte” y la curiosa historia del DT que la inventó en México '86\", 'Todos los goles de Lionel Messi en Mundiales', 'Ecuador, de la mano de Gustavo Alfaro, abrirá el Mundial de Qatar ante el local', 'Ocho países para tres lugares: los equipos que aún pueden clasificarse al Mundial en los repechajes', 'La mascota del Mundial 2022 parece un fantasma y las redes se llenaron de memes para River', 'El Kun Agüero y Sofía Calzetti se vistieron de gala para el sorteo del mundial', 'El Gobierno levantó las restricciones migratorias y reabrió todas las fronteras', 'Condenaron a Ricardo Jaime y Julio de Vido por la compra de trenes chatarra a España y Portugal', 'Se terminó el sueño de Cerúndolo: cayó ante Casper Ruud en semifinales del Masters 1000 de Miami', 'Confirmaron 34 muertes por coronavirus y 1927 nuevos casos en las últimas 24 horas', 'Harto de los piquetes, pasó con su camioneta y le tiraron piedras', 'Mató y violó a más de 100 hombres y niños: Carl Panzram, el peor criminal que haya existido', 'Falta gasoil para la cosecha y el campo pide que el Gobierno tome medidas', 'La casa del horror en La Tablada: un hombre convivió una década con su mamá enterrada en el jardín', 'Un basural en la 9 de Julio: así quedó la avenida tras el multitudinario acampe piquetero', 'Tiene 9 años y creó un negocio en la escuela: recaudaba hasta $5000 por día y se lo prohibieron', 'Interna por la inflación: Roberto Feletti dice que el Indec “sobreestima” la suba de precios', 'A 40 AÑOS DE MALVINAS', 'Martin Balza: “Fue una guerra absurda construida sobre una causa justa”', 'La carta que mi papá me escribió antes de morir en Malvinas', 'Operación Rosario: los primeros argentinos que desembarcaron en las islas recuerdan su historia', 'Videos', 'Así fueron los tres días de acampe en la 9 de julio: caos de tránsito, carpas y despliegue policial', 'El testimonio de las enfermeras que asistieron a los heridos en la guerra de Malvinas: \"Todavía recordamos el dolor de los soldados\"', 'Murió en la guerra y sus padres conservan su habitación intacta: “Es nuestro templo”', '“Nos están matando\": por los piquetes, cada vez más comerciantes cierran sus locales en Avenida de Mayo', 'Tres soldados elegidos por los militares para ser la cara de la guerra cuentan la verdadera historia', 'El barrio del olvido: se inauguró hace 11 años en José C. Paz y terminó en un abandono absoluto', 'Diez días como un yerbatero: la vida de los cosecheros y el injusto reparto del fruto de su esfuerzo', 'Comer de las sobras: viven en la pobreza extrema y juntan de la basura para alimentar a los chicos', 'Volvió de Malvinas, pero no recibió su medalla: 40 años después la encontró gracias a un colectivero', 'Entrevista con Canticuénticos, el grupo favorito de los chicos cuya canción ayudó en casos de abuso', 'La bronca de los vecinos de Merlo, que viven a merced de la mafia de los cañitos del medidor de gas', 'TN en Qatar: guía para saber cómo es el viaje a la casa del Mundial 2022', 'La modelo afroargentina que brilla en las paserales y en el hip hop: \"Es mi venganza\"', 'Las víctimas del Estafador Argentino de Tinder viven en pánico: “Roby” pidió salir en libertad', 'Se enamoraron mientras él hacía el servicio militar en Corea y se casaron en Florencio Varela', 'Mujeres que cambiaron sus vidas gracias a un tatuaje sanador: de las cicatrices al arte', 'La historia de Gervasio, el jabalí que se cree perro: vive en Mar Azul y camina solo hacia la playa', 'Instagram: las nuevas funciones para los mensajes directos que llegan a la red social', 'Geraldine La Rosa, la esposa de Gallardo, desmintió el noviazgo entre el técnico y Alina Moine', 'Cayó Coco, el exchofer de Moria Casán, por vender cocaína en Mar del Plata', 'El cambalache de Cristina Kirchner con el FMI y la plata robada', 'Alberto Fernández habló sobre Malvinas en un medio británico: “Tengo claro que no son inglesas”', 'El Ministerio de Salud eliminó la recomendación de distanciamiento social obligatorio', 'Cayó la banda de “Marcos” en la 1-11-14: detuvieron a 10 personas por la venta de paco, cocaína y marihuana', 'Dejó su casa y vive en una camioneta para recibirse de docente: “Sé que voy a cumplir mi sueño”', 'Inflación sin freno: en abril aumentan las expensas, las prepagas y los colegios', 'Nacha Guevara recibirá casi 12 millones de pesos de indemnización por haber tenido que exiliarse', 'Por la invasión de Rusia, uno de cada cuatro ucranianos ya debió abandonar su casa', 'No se salvó ni Wanda Nara: la empresaria llegó a la Argentina y quedó varada en la Riccheri', 'Dólar ahorro: se renueva el cupo para comprar US$200 a un precio más bajo que el blue', 'Murió el famoso fotógrafo Patrick Demarchelier, uno de los favoritos de Lady Di', 'Segundo día de corte en la Riccheri: vecinos protestan por la falta de luz y agua', 'Una testigo vio llorar a Nora Dalmasso por una discusión con su esposo pocos días antes del crimen', 'Imputaron a cuatro personas por los afiches contra Cristina Kirchner: serán indagados por hostigamiento y daño agravado', '“¿El tiro dónde va?”: se filtró un audio entre un sicario y un conocido cirujano preso por abuso', 'La razón por la que Will Smith no fue arrestado tras pegarle una cachetada a Chris Rock', 'Es campeona nacional de gimnasia aeróbica y necesita ayuda para viajar a competir a Uruguay', 'México: encontraron seis cabezas humanas y restos de cuerpos en un vehículo estacionado', 'Las sugerencias que le hizo el FMI al Gobierno sobre el dólar y la política del Banco Central', 'Margarita Barrientos, con Levy Yeyati: “No le podemos pedir al Estado que nos mantenga con planes”', 'La familia Zapp y un viaje de 22 años: “Les demostramos a nuestros hijos que los sueños se cumplen”', 'Opinión', 'Regular contenidos de redes sociales: los estudios pioneros ya existen y tienen otro diagnóstico', 'Héroe, la banda de pop lírico que grabó videoclips en Malvinas: “Estuvimos vigilados todo el tiempo”', 'Cómo compartir videos de YouTube en Snapchat', 'Marcelo Tinelli cumple 62 años: los amores que lo acompañaron durante sus 40 años en la TV', 'WhatsApp deja de funcionar en estos celulares', 'Mataron por la espalda y delante de su esposa a un ciclista en un intento de robo en Pergamino', 'La China Suárez mostró el original detalle de su vestidor: colección de zapatillas y guiño al teatro', 'Apuestas en el fútbol argentino: investigan una red de representantes que tienen nexos con jugadores', 'TN en Qatar: el desierto, la maravilla natural que albergará a cientos de hinchas durante el Mundial', 'El duro testimonio de una mujer en el acampe piquetero: “La plata nunca alcanza para vivir”', 'Lola del Carril, la relatora que a sus 23 años hará historia en el fútbol argentino', 'Coparticipación: 19 gobernadores le enviaron una carta a la Corte con duras advertencias en la pelea con CABA', 'Habló la chica amenazada con ser violada y asesinada: “Nunca tuve problemas con mis compañeros”', 'Desde Italia 90 a Shakira y Ricky Martin: las canciones que marcaron a los Mundiales', '¿Mica Viciconte es la nueva Samanta Casais?: tendría un título en gastronomía', 'Sorpresa en Mar del Sur por la espuma que cubrió la playa: a qué se debe', 'Crimen de Nora Dalmasso: Facundo Macarrón acusó a las amigas de su madre de proteger a Miguel Rohrer', 'Nico Occhiato reaccionó luego de que Flor Vigna dijera que su vida sexual mejoró con Luciano Castro', 'El recuerdo de Federico Storani, a seis años de la muerte de su hijo Manuel: “Una parte mía se fue con él”', 'Manu Lanzini, después de volcar con su auto en Inglaterra: “Fue un susto muy grande”', 'Estados Unidos anunció que los pasaportes tendrán la opción “X” para personas trans y no binarias', 'El Gobierno pone la mira en la Hidrovía y choca con La Cámpora', 'Opinión', 'Alberto pacta con el diablo, pero la inflación le gana', 'El populismo ajusta por medio de una mayor presión fiscal', 'Milei, en tránsito a jefe de una nueva facción política', 'China es el segundo mejor mercado para Argentina, pero genera dudas', 'El doble de Lionel Messi sorprendió a Laurita Fernández en “Bienvenidos a bordo”', 'Qué es el Grupo Wagner, la organización fantasma del ejército de Vladimir Putin que combate en Ucrania', 'El cachetazo de la política que antecedió al de Hollywood: qué dicen Graciela Camaño y Carlos Kunkel, 12 años después', 'Un bebé nació con dos cabezas, tres manos y dos corazones: no lo quieren operar y los padres esperan un milagro', '“El hotel de los famosos”: Melody Luz invitó a Alex Caniggia a pasar la noche en la suite', 'Mirá TN las 24 horas', 'Técnicas que aumentan las posibilidades de orgasmo femenino', 'Facebook habría reportado menos imágenes de abuso infantil de las que encuentra', 'Quiso abrir una botella de champagne con un cuchillo pero lo que voló no fue el corcho', 'Las fotos del día', '\"Violencia simbólica\": Cerruti acusó a los medios y las redes sociales por los ataques a Cristina Kirchner', 'Una empresa del agro recaudó más de 11 millones de dólares en una obligación negociable', 'Te va a interesar', '“La Ciudad Corre”, una media maratón que suma sorteos y premios al cierre de la jornada', 'La palta reduce el riesgo de infarto', 'Bill Murray, un actor diferente amado por el público: no tiene agente y casi no atiende el teléfono', 'TN Autos', 'Toyota presentó el nuevo Corolla deportivo con motor turbo de 304 caballos', 'Cuánto podrías pedir por tu auto si lo quisieras vender en abril', 'Por las trabas a la importación, los autos argentinos dominan la venta de 0 km', 'TN Campo', 'Falta gasoil para la cosecha y el campo pide que el Gobierno tome medidas', 'Misterio en un campo de Bolívar: buscan a un peón rural que desapareció hace más de 48 horas', 'Mercado de Liniers: siguen subiendo los precios de las categorías para el consumo interno', 'TN Podcast', 'Cómo nos transforma sabernos pertenecientes al alma familiar', 'Meditación para reconfigurar nuestros estados de malestar', '¿Cómo abordar la comunicación política en tiempos de crisis? Con Mario Riorda', 'La Viola', 'Harry Styles publicó “As It Was” y no vas a parar de bailar', 'La Beriso llega a Obras y lo vas a ver en vivo en la web de TN', 'Ricardo Montaner se vuelve arrabalero y presenta “El día que me quieras”', 'TN Estilo', 'El Kun Agüero y Sofía Calzetti se vistieron de gala para el sorteo del mundial', 'Ofelia Fernández fue tendencia por su look en la Legislatura porteña', 'Fedez, el marido de Chiara Ferragni, fue dado de alta luego de ser operado de un tumor en el páncrea', 'Con Bienestar', 'Técnicas que aumentan las posibilidades de orgasmo femenino', 'Brasil: crecen los casos de síndrome respiratorio agudo severo en niños', 'Seguinos en las redes', 'Descargate la app de TN', 'Últimas noticias', 'Secciones', 'Sitios amigos', 'Descargate la app de TN', 'Seguinos en las redes']\n"
          ]
        }
      ]
    },
    {
      "cell_type": "markdown",
      "source": [
        "Ubicamos y eliminamos los H3 cortos porque tampoco son titulares, son cosas como \"Descagate la app\" y \"Seguinos en las redes\"."
      ],
      "metadata": {
        "id": "SdeGUelD50V6"
      }
    },
    {
      "cell_type": "code",
      "source": [
        "toDelete = []\n",
        "for x in headlines:\n",
        "  if len(x) < 30:\n",
        "    i = headlines.index(x)\n",
        "    toDelete.append((i))"
      ],
      "metadata": {
        "id": "w5OdvZoMXYxj"
      },
      "execution_count": 107,
      "outputs": []
    },
    {
      "cell_type": "code",
      "source": [
        "for index in sorted(toDelete, reverse=True):\n",
        "    del headlines[index]"
      ],
      "metadata": {
        "id": "1AwzuuTMZO_n"
      },
      "execution_count": 108,
      "outputs": []
    },
    {
      "cell_type": "markdown",
      "source": [
        "Nos quedamos con los primeros 50 titulares, para no hacer tan pesado el análisis"
      ],
      "metadata": {
        "id": "WJDf_l_O6BDA"
      }
    },
    {
      "cell_type": "code",
      "source": [
        "hl_use = headlines[0:50]\n",
        "print(hl_use)"
      ],
      "metadata": {
        "colab": {
          "base_uri": "https://localhost:8080/"
        },
        "id": "CySNYxTeWyB_",
        "outputId": "9235e2d1-55ab-48de-c813-7739bdf43549"
      },
      "execution_count": 109,
      "outputs": [
        {
          "output_type": "stream",
          "name": "stdout",
          "text": [
            "['Argentina tuvo un sorteo favorable: qué potencias podría enfrentar para llegar a la final', 'Arabia Saudita, el primer examen de la Selección', 'Polonia y el poder de fuego de Robert Lewandowski', 'México, de \"Tata\" Martino, en el camino de Scaloni', 'Así quedaron todos los grupos del Mundial Qatar 2022', 'El fixture de la Selección argentina en el Mundial de Qatar: día y hora de los partidos', 'Lionel Scaloni, tras el sorteo del Mundial: “Creo que podremos hacer una buena fase de grupos”', 'Argentina debutará ante Arabia Saudita y sus otros rivales serán México y Polonia', 'El emotivo homenaje a Diego Maradona en la ceremonia del sorteo del Mundial de Qatar 2022', 'Los 10 jugadores más caros que estarán en el Mundial de Qatar 2022: una lista con ausencias notables', 'Se sorteó el Mundial Qatar 2022 y en las redes se acordaron de Chile, que no clasificó: los memes', \"De dónde viene la frase “el grupo de la muerte” y la curiosa historia del DT que la inventó en México '86\", 'Todos los goles de Lionel Messi en Mundiales', 'Ecuador, de la mano de Gustavo Alfaro, abrirá el Mundial de Qatar ante el local', 'Ocho países para tres lugares: los equipos que aún pueden clasificarse al Mundial en los repechajes', 'La mascota del Mundial 2022 parece un fantasma y las redes se llenaron de memes para River', 'El Kun Agüero y Sofía Calzetti se vistieron de gala para el sorteo del mundial', 'El Gobierno levantó las restricciones migratorias y reabrió todas las fronteras', 'Condenaron a Ricardo Jaime y Julio de Vido por la compra de trenes chatarra a España y Portugal', 'Se terminó el sueño de Cerúndolo: cayó ante Casper Ruud en semifinales del Masters 1000 de Miami', 'Confirmaron 34 muertes por coronavirus y 1927 nuevos casos en las últimas 24 horas', 'Harto de los piquetes, pasó con su camioneta y le tiraron piedras', 'Mató y violó a más de 100 hombres y niños: Carl Panzram, el peor criminal que haya existido', 'Falta gasoil para la cosecha y el campo pide que el Gobierno tome medidas', 'La casa del horror en La Tablada: un hombre convivió una década con su mamá enterrada en el jardín', 'Un basural en la 9 de Julio: así quedó la avenida tras el multitudinario acampe piquetero', 'Tiene 9 años y creó un negocio en la escuela: recaudaba hasta $5000 por día y se lo prohibieron', 'Interna por la inflación: Roberto Feletti dice que el Indec “sobreestima” la suba de precios', 'Martin Balza: “Fue una guerra absurda construida sobre una causa justa”', 'La carta que mi papá me escribió antes de morir en Malvinas', 'Operación Rosario: los primeros argentinos que desembarcaron en las islas recuerdan su historia', 'Así fueron los tres días de acampe en la 9 de julio: caos de tránsito, carpas y despliegue policial', 'El testimonio de las enfermeras que asistieron a los heridos en la guerra de Malvinas: \"Todavía recordamos el dolor de los soldados\"', 'Murió en la guerra y sus padres conservan su habitación intacta: “Es nuestro templo”', '“Nos están matando\": por los piquetes, cada vez más comerciantes cierran sus locales en Avenida de Mayo', 'Tres soldados elegidos por los militares para ser la cara de la guerra cuentan la verdadera historia', 'El barrio del olvido: se inauguró hace 11 años en José C. Paz y terminó en un abandono absoluto', 'Diez días como un yerbatero: la vida de los cosecheros y el injusto reparto del fruto de su esfuerzo', 'Comer de las sobras: viven en la pobreza extrema y juntan de la basura para alimentar a los chicos', 'Volvió de Malvinas, pero no recibió su medalla: 40 años después la encontró gracias a un colectivero', 'Entrevista con Canticuénticos, el grupo favorito de los chicos cuya canción ayudó en casos de abuso', 'La bronca de los vecinos de Merlo, que viven a merced de la mafia de los cañitos del medidor de gas', 'TN en Qatar: guía para saber cómo es el viaje a la casa del Mundial 2022', 'La modelo afroargentina que brilla en las paserales y en el hip hop: \"Es mi venganza\"', 'Las víctimas del Estafador Argentino de Tinder viven en pánico: “Roby” pidió salir en libertad', 'Se enamoraron mientras él hacía el servicio militar en Corea y se casaron en Florencio Varela', 'Mujeres que cambiaron sus vidas gracias a un tatuaje sanador: de las cicatrices al arte', 'La historia de Gervasio, el jabalí que se cree perro: vive en Mar Azul y camina solo hacia la playa', 'Instagram: las nuevas funciones para los mensajes directos que llegan a la red social', 'Geraldine La Rosa, la esposa de Gallardo, desmintió el noviazgo entre el técnico y Alina Moine']\n"
          ]
        }
      ]
    },
    {
      "cell_type": "markdown",
      "source": [
        "### Interpretamos los sentimientos de los titulares\n",
        "Procedemos a crear una lista de diccionarios donde ponemos el titular y el sentimiento detectado. \n",
        "\n",
        "El output nos trae un porcentaje de certeza de que el input sea positivo, negativo o neutro. Luego de algunas pruebas elegí 0.3 como valor ya que me parece que así funciona bastante bien.\n"
      ],
      "metadata": {
        "id": "7NJVVapP7JIt"
      }
    },
    {
      "cell_type": "code",
      "source": [
        "from pysentimiento import create_analyzer\n",
        "analyzer = create_analyzer(task=\"sentiment\", lang=\"es\")"
      ],
      "metadata": {
        "id": "ZmNm3ZFVamc6"
      },
      "execution_count": null,
      "outputs": []
    },
    {
      "cell_type": "code",
      "source": [
        "sent_list = []\n",
        "for i in range(len(hl_use)):\n",
        "  sent = analyzer.predict(hl_use[i])\n",
        "  if(sent.output == 'NEG'):\n",
        "    sent_detect = 'Negativo'\n",
        "  elif(sent.output == 'POS'):\n",
        "    sent_detect = 'Positivo'\n",
        "  else:\n",
        "    sent_detect = 'Neutro'\n",
        "  outp = {'Titular': hl_use[i], 'SentimientoDetectado': sent_detect}\n",
        "  sent_list.append(outp)"
      ],
      "metadata": {
        "id": "rgI0Pz2Wuwxp"
      },
      "execution_count": 111,
      "outputs": []
    },
    {
      "cell_type": "markdown",
      "source": [
        "Convertimos la lista en un DataFrame"
      ],
      "metadata": {
        "id": "u_F9Ard58Wm_"
      }
    },
    {
      "cell_type": "code",
      "source": [
        "df = pd.DataFrame(sent_list)"
      ],
      "metadata": {
        "id": "T7bie9z1xRX4"
      },
      "execution_count": 112,
      "outputs": []
    },
    {
      "cell_type": "markdown",
      "source": [
        "### Le damos estilo a la tabla y la mostramos"
      ],
      "metadata": {
        "id": "wL5zC-jB8aRY"
      }
    },
    {
      "cell_type": "code",
      "source": [
        "\n",
        "def highlight_col(x):\n",
        "    #copy df to new - original data are not changed\n",
        "    df = x.copy()\n",
        "    #set by condition\n",
        "    mask = df['SentimientoDetectado'] == 'Negativo'\n",
        "    mask2 = df['SentimientoDetectado'] == 'Positivo'\n",
        "    df.loc[mask, :] = 'background-color: red; opacity: 0.65'\n",
        "    df.loc[~mask,:] = 'background-color: \"\"'\n",
        "    df.loc[mask2, :] = 'background-color: green; opacity: 0.65'\n",
        "    return df    \n",
        "\n",
        "df_styled = df.style.apply(highlight_col, axis=None)\n",
        "\n",
        "display(df_styled)"
      ],
      "metadata": {
        "colab": {
          "base_uri": "https://localhost:8080/",
          "height": 1000
        },
        "id": "KyPE3os5JMkT",
        "outputId": "af4d5751-9fad-451a-93a6-6ebf5f4b2241"
      },
      "execution_count": 113,
      "outputs": [
        {
          "output_type": "display_data",
          "data": {
            "text/plain": [
              "<pandas.io.formats.style.Styler at 0x7f8d5f46c5d0>"
            ],
            "text/html": [
              "<style type=\"text/css\">\n",
              "#T_f66a4_row0_col0, #T_f66a4_row0_col1, #T_f66a4_row1_col0, #T_f66a4_row1_col1, #T_f66a4_row2_col0, #T_f66a4_row2_col1, #T_f66a4_row3_col0, #T_f66a4_row3_col1, #T_f66a4_row4_col0, #T_f66a4_row4_col1, #T_f66a4_row5_col0, #T_f66a4_row5_col1, #T_f66a4_row7_col0, #T_f66a4_row7_col1, #T_f66a4_row8_col0, #T_f66a4_row8_col1, #T_f66a4_row10_col0, #T_f66a4_row10_col1, #T_f66a4_row11_col0, #T_f66a4_row11_col1, #T_f66a4_row12_col0, #T_f66a4_row12_col1, #T_f66a4_row13_col0, #T_f66a4_row13_col1, #T_f66a4_row14_col0, #T_f66a4_row14_col1, #T_f66a4_row16_col0, #T_f66a4_row16_col1, #T_f66a4_row17_col0, #T_f66a4_row17_col1, #T_f66a4_row19_col0, #T_f66a4_row19_col1, #T_f66a4_row20_col0, #T_f66a4_row20_col1, #T_f66a4_row25_col0, #T_f66a4_row25_col1, #T_f66a4_row26_col0, #T_f66a4_row26_col1, #T_f66a4_row29_col0, #T_f66a4_row29_col1, #T_f66a4_row30_col0, #T_f66a4_row30_col1, #T_f66a4_row35_col0, #T_f66a4_row35_col1, #T_f66a4_row39_col0, #T_f66a4_row39_col1, #T_f66a4_row40_col0, #T_f66a4_row40_col1, #T_f66a4_row42_col0, #T_f66a4_row42_col1, #T_f66a4_row43_col0, #T_f66a4_row43_col1, #T_f66a4_row45_col0, #T_f66a4_row45_col1, #T_f66a4_row48_col0, #T_f66a4_row48_col1, #T_f66a4_row49_col0, #T_f66a4_row49_col1 {\n",
              "  background-color: \"\";\n",
              "}\n",
              "#T_f66a4_row6_col0, #T_f66a4_row6_col1, #T_f66a4_row33_col0, #T_f66a4_row33_col1, #T_f66a4_row46_col0, #T_f66a4_row46_col1 {\n",
              "  background-color: green;\n",
              "  opacity: 0.65;\n",
              "}\n",
              "#T_f66a4_row9_col0, #T_f66a4_row9_col1, #T_f66a4_row15_col0, #T_f66a4_row15_col1, #T_f66a4_row18_col0, #T_f66a4_row18_col1, #T_f66a4_row21_col0, #T_f66a4_row21_col1, #T_f66a4_row22_col0, #T_f66a4_row22_col1, #T_f66a4_row23_col0, #T_f66a4_row23_col1, #T_f66a4_row24_col0, #T_f66a4_row24_col1, #T_f66a4_row27_col0, #T_f66a4_row27_col1, #T_f66a4_row28_col0, #T_f66a4_row28_col1, #T_f66a4_row31_col0, #T_f66a4_row31_col1, #T_f66a4_row32_col0, #T_f66a4_row32_col1, #T_f66a4_row34_col0, #T_f66a4_row34_col1, #T_f66a4_row36_col0, #T_f66a4_row36_col1, #T_f66a4_row37_col0, #T_f66a4_row37_col1, #T_f66a4_row38_col0, #T_f66a4_row38_col1, #T_f66a4_row41_col0, #T_f66a4_row41_col1, #T_f66a4_row44_col0, #T_f66a4_row44_col1, #T_f66a4_row47_col0, #T_f66a4_row47_col1 {\n",
              "  background-color: red;\n",
              "  opacity: 0.65;\n",
              "}\n",
              "</style>\n",
              "<table id=\"T_f66a4_\" class=\"dataframe\">\n",
              "  <thead>\n",
              "    <tr>\n",
              "      <th class=\"blank level0\" >&nbsp;</th>\n",
              "      <th class=\"col_heading level0 col0\" >Titular</th>\n",
              "      <th class=\"col_heading level0 col1\" >SentimientoDetectado</th>\n",
              "    </tr>\n",
              "  </thead>\n",
              "  <tbody>\n",
              "    <tr>\n",
              "      <th id=\"T_f66a4_level0_row0\" class=\"row_heading level0 row0\" >0</th>\n",
              "      <td id=\"T_f66a4_row0_col0\" class=\"data row0 col0\" >Argentina tuvo un sorteo favorable: qué potencias podría enfrentar para llegar a la final</td>\n",
              "      <td id=\"T_f66a4_row0_col1\" class=\"data row0 col1\" >Neutro</td>\n",
              "    </tr>\n",
              "    <tr>\n",
              "      <th id=\"T_f66a4_level0_row1\" class=\"row_heading level0 row1\" >1</th>\n",
              "      <td id=\"T_f66a4_row1_col0\" class=\"data row1 col0\" >Arabia Saudita, el primer examen de la Selección</td>\n",
              "      <td id=\"T_f66a4_row1_col1\" class=\"data row1 col1\" >Neutro</td>\n",
              "    </tr>\n",
              "    <tr>\n",
              "      <th id=\"T_f66a4_level0_row2\" class=\"row_heading level0 row2\" >2</th>\n",
              "      <td id=\"T_f66a4_row2_col0\" class=\"data row2 col0\" >Polonia y el poder de fuego de Robert Lewandowski</td>\n",
              "      <td id=\"T_f66a4_row2_col1\" class=\"data row2 col1\" >Neutro</td>\n",
              "    </tr>\n",
              "    <tr>\n",
              "      <th id=\"T_f66a4_level0_row3\" class=\"row_heading level0 row3\" >3</th>\n",
              "      <td id=\"T_f66a4_row3_col0\" class=\"data row3 col0\" >México, de \"Tata\" Martino, en el camino de Scaloni</td>\n",
              "      <td id=\"T_f66a4_row3_col1\" class=\"data row3 col1\" >Neutro</td>\n",
              "    </tr>\n",
              "    <tr>\n",
              "      <th id=\"T_f66a4_level0_row4\" class=\"row_heading level0 row4\" >4</th>\n",
              "      <td id=\"T_f66a4_row4_col0\" class=\"data row4 col0\" >Así quedaron todos los grupos del Mundial Qatar 2022</td>\n",
              "      <td id=\"T_f66a4_row4_col1\" class=\"data row4 col1\" >Neutro</td>\n",
              "    </tr>\n",
              "    <tr>\n",
              "      <th id=\"T_f66a4_level0_row5\" class=\"row_heading level0 row5\" >5</th>\n",
              "      <td id=\"T_f66a4_row5_col0\" class=\"data row5 col0\" >El fixture de la Selección argentina en el Mundial de Qatar: día y hora de los partidos</td>\n",
              "      <td id=\"T_f66a4_row5_col1\" class=\"data row5 col1\" >Neutro</td>\n",
              "    </tr>\n",
              "    <tr>\n",
              "      <th id=\"T_f66a4_level0_row6\" class=\"row_heading level0 row6\" >6</th>\n",
              "      <td id=\"T_f66a4_row6_col0\" class=\"data row6 col0\" >Lionel Scaloni, tras el sorteo del Mundial: “Creo que podremos hacer una buena fase de grupos”</td>\n",
              "      <td id=\"T_f66a4_row6_col1\" class=\"data row6 col1\" >Positivo</td>\n",
              "    </tr>\n",
              "    <tr>\n",
              "      <th id=\"T_f66a4_level0_row7\" class=\"row_heading level0 row7\" >7</th>\n",
              "      <td id=\"T_f66a4_row7_col0\" class=\"data row7 col0\" >Argentina debutará ante Arabia Saudita y sus otros rivales serán México y Polonia</td>\n",
              "      <td id=\"T_f66a4_row7_col1\" class=\"data row7 col1\" >Neutro</td>\n",
              "    </tr>\n",
              "    <tr>\n",
              "      <th id=\"T_f66a4_level0_row8\" class=\"row_heading level0 row8\" >8</th>\n",
              "      <td id=\"T_f66a4_row8_col0\" class=\"data row8 col0\" >El emotivo homenaje a Diego Maradona en la ceremonia del sorteo del Mundial de Qatar 2022</td>\n",
              "      <td id=\"T_f66a4_row8_col1\" class=\"data row8 col1\" >Neutro</td>\n",
              "    </tr>\n",
              "    <tr>\n",
              "      <th id=\"T_f66a4_level0_row9\" class=\"row_heading level0 row9\" >9</th>\n",
              "      <td id=\"T_f66a4_row9_col0\" class=\"data row9 col0\" >Los 10 jugadores más caros que estarán en el Mundial de Qatar 2022: una lista con ausencias notables</td>\n",
              "      <td id=\"T_f66a4_row9_col1\" class=\"data row9 col1\" >Negativo</td>\n",
              "    </tr>\n",
              "    <tr>\n",
              "      <th id=\"T_f66a4_level0_row10\" class=\"row_heading level0 row10\" >10</th>\n",
              "      <td id=\"T_f66a4_row10_col0\" class=\"data row10 col0\" >Se sorteó el Mundial Qatar 2022 y en las redes se acordaron de Chile, que no clasificó: los memes</td>\n",
              "      <td id=\"T_f66a4_row10_col1\" class=\"data row10 col1\" >Neutro</td>\n",
              "    </tr>\n",
              "    <tr>\n",
              "      <th id=\"T_f66a4_level0_row11\" class=\"row_heading level0 row11\" >11</th>\n",
              "      <td id=\"T_f66a4_row11_col0\" class=\"data row11 col0\" >De dónde viene la frase “el grupo de la muerte” y la curiosa historia del DT que la inventó en México '86</td>\n",
              "      <td id=\"T_f66a4_row11_col1\" class=\"data row11 col1\" >Neutro</td>\n",
              "    </tr>\n",
              "    <tr>\n",
              "      <th id=\"T_f66a4_level0_row12\" class=\"row_heading level0 row12\" >12</th>\n",
              "      <td id=\"T_f66a4_row12_col0\" class=\"data row12 col0\" >Todos los goles de Lionel Messi en Mundiales</td>\n",
              "      <td id=\"T_f66a4_row12_col1\" class=\"data row12 col1\" >Neutro</td>\n",
              "    </tr>\n",
              "    <tr>\n",
              "      <th id=\"T_f66a4_level0_row13\" class=\"row_heading level0 row13\" >13</th>\n",
              "      <td id=\"T_f66a4_row13_col0\" class=\"data row13 col0\" >Ecuador, de la mano de Gustavo Alfaro, abrirá el Mundial de Qatar ante el local</td>\n",
              "      <td id=\"T_f66a4_row13_col1\" class=\"data row13 col1\" >Neutro</td>\n",
              "    </tr>\n",
              "    <tr>\n",
              "      <th id=\"T_f66a4_level0_row14\" class=\"row_heading level0 row14\" >14</th>\n",
              "      <td id=\"T_f66a4_row14_col0\" class=\"data row14 col0\" >Ocho países para tres lugares: los equipos que aún pueden clasificarse al Mundial en los repechajes</td>\n",
              "      <td id=\"T_f66a4_row14_col1\" class=\"data row14 col1\" >Neutro</td>\n",
              "    </tr>\n",
              "    <tr>\n",
              "      <th id=\"T_f66a4_level0_row15\" class=\"row_heading level0 row15\" >15</th>\n",
              "      <td id=\"T_f66a4_row15_col0\" class=\"data row15 col0\" >La mascota del Mundial 2022 parece un fantasma y las redes se llenaron de memes para River</td>\n",
              "      <td id=\"T_f66a4_row15_col1\" class=\"data row15 col1\" >Negativo</td>\n",
              "    </tr>\n",
              "    <tr>\n",
              "      <th id=\"T_f66a4_level0_row16\" class=\"row_heading level0 row16\" >16</th>\n",
              "      <td id=\"T_f66a4_row16_col0\" class=\"data row16 col0\" >El Kun Agüero y Sofía Calzetti se vistieron de gala para el sorteo del mundial</td>\n",
              "      <td id=\"T_f66a4_row16_col1\" class=\"data row16 col1\" >Neutro</td>\n",
              "    </tr>\n",
              "    <tr>\n",
              "      <th id=\"T_f66a4_level0_row17\" class=\"row_heading level0 row17\" >17</th>\n",
              "      <td id=\"T_f66a4_row17_col0\" class=\"data row17 col0\" >El Gobierno levantó las restricciones migratorias y reabrió todas las fronteras</td>\n",
              "      <td id=\"T_f66a4_row17_col1\" class=\"data row17 col1\" >Neutro</td>\n",
              "    </tr>\n",
              "    <tr>\n",
              "      <th id=\"T_f66a4_level0_row18\" class=\"row_heading level0 row18\" >18</th>\n",
              "      <td id=\"T_f66a4_row18_col0\" class=\"data row18 col0\" >Condenaron a Ricardo Jaime y Julio de Vido por la compra de trenes chatarra a España y Portugal</td>\n",
              "      <td id=\"T_f66a4_row18_col1\" class=\"data row18 col1\" >Negativo</td>\n",
              "    </tr>\n",
              "    <tr>\n",
              "      <th id=\"T_f66a4_level0_row19\" class=\"row_heading level0 row19\" >19</th>\n",
              "      <td id=\"T_f66a4_row19_col0\" class=\"data row19 col0\" >Se terminó el sueño de Cerúndolo: cayó ante Casper Ruud en semifinales del Masters 1000 de Miami</td>\n",
              "      <td id=\"T_f66a4_row19_col1\" class=\"data row19 col1\" >Neutro</td>\n",
              "    </tr>\n",
              "    <tr>\n",
              "      <th id=\"T_f66a4_level0_row20\" class=\"row_heading level0 row20\" >20</th>\n",
              "      <td id=\"T_f66a4_row20_col0\" class=\"data row20 col0\" >Confirmaron 34 muertes por coronavirus y 1927 nuevos casos en las últimas 24 horas</td>\n",
              "      <td id=\"T_f66a4_row20_col1\" class=\"data row20 col1\" >Neutro</td>\n",
              "    </tr>\n",
              "    <tr>\n",
              "      <th id=\"T_f66a4_level0_row21\" class=\"row_heading level0 row21\" >21</th>\n",
              "      <td id=\"T_f66a4_row21_col0\" class=\"data row21 col0\" >Harto de los piquetes, pasó con su camioneta y le tiraron piedras</td>\n",
              "      <td id=\"T_f66a4_row21_col1\" class=\"data row21 col1\" >Negativo</td>\n",
              "    </tr>\n",
              "    <tr>\n",
              "      <th id=\"T_f66a4_level0_row22\" class=\"row_heading level0 row22\" >22</th>\n",
              "      <td id=\"T_f66a4_row22_col0\" class=\"data row22 col0\" >Mató y violó a más de 100 hombres y niños: Carl Panzram, el peor criminal que haya existido</td>\n",
              "      <td id=\"T_f66a4_row22_col1\" class=\"data row22 col1\" >Negativo</td>\n",
              "    </tr>\n",
              "    <tr>\n",
              "      <th id=\"T_f66a4_level0_row23\" class=\"row_heading level0 row23\" >23</th>\n",
              "      <td id=\"T_f66a4_row23_col0\" class=\"data row23 col0\" >Falta gasoil para la cosecha y el campo pide que el Gobierno tome medidas</td>\n",
              "      <td id=\"T_f66a4_row23_col1\" class=\"data row23 col1\" >Negativo</td>\n",
              "    </tr>\n",
              "    <tr>\n",
              "      <th id=\"T_f66a4_level0_row24\" class=\"row_heading level0 row24\" >24</th>\n",
              "      <td id=\"T_f66a4_row24_col0\" class=\"data row24 col0\" >La casa del horror en La Tablada: un hombre convivió una década con su mamá enterrada en el jardín</td>\n",
              "      <td id=\"T_f66a4_row24_col1\" class=\"data row24 col1\" >Negativo</td>\n",
              "    </tr>\n",
              "    <tr>\n",
              "      <th id=\"T_f66a4_level0_row25\" class=\"row_heading level0 row25\" >25</th>\n",
              "      <td id=\"T_f66a4_row25_col0\" class=\"data row25 col0\" >Un basural en la 9 de Julio: así quedó la avenida tras el multitudinario acampe piquetero</td>\n",
              "      <td id=\"T_f66a4_row25_col1\" class=\"data row25 col1\" >Neutro</td>\n",
              "    </tr>\n",
              "    <tr>\n",
              "      <th id=\"T_f66a4_level0_row26\" class=\"row_heading level0 row26\" >26</th>\n",
              "      <td id=\"T_f66a4_row26_col0\" class=\"data row26 col0\" >Tiene 9 años y creó un negocio en la escuela: recaudaba hasta $5000 por día y se lo prohibieron</td>\n",
              "      <td id=\"T_f66a4_row26_col1\" class=\"data row26 col1\" >Neutro</td>\n",
              "    </tr>\n",
              "    <tr>\n",
              "      <th id=\"T_f66a4_level0_row27\" class=\"row_heading level0 row27\" >27</th>\n",
              "      <td id=\"T_f66a4_row27_col0\" class=\"data row27 col0\" >Interna por la inflación: Roberto Feletti dice que el Indec “sobreestima” la suba de precios</td>\n",
              "      <td id=\"T_f66a4_row27_col1\" class=\"data row27 col1\" >Negativo</td>\n",
              "    </tr>\n",
              "    <tr>\n",
              "      <th id=\"T_f66a4_level0_row28\" class=\"row_heading level0 row28\" >28</th>\n",
              "      <td id=\"T_f66a4_row28_col0\" class=\"data row28 col0\" >Martin Balza: “Fue una guerra absurda construida sobre una causa justa”</td>\n",
              "      <td id=\"T_f66a4_row28_col1\" class=\"data row28 col1\" >Negativo</td>\n",
              "    </tr>\n",
              "    <tr>\n",
              "      <th id=\"T_f66a4_level0_row29\" class=\"row_heading level0 row29\" >29</th>\n",
              "      <td id=\"T_f66a4_row29_col0\" class=\"data row29 col0\" >La carta que mi papá me escribió antes de morir en Malvinas</td>\n",
              "      <td id=\"T_f66a4_row29_col1\" class=\"data row29 col1\" >Neutro</td>\n",
              "    </tr>\n",
              "    <tr>\n",
              "      <th id=\"T_f66a4_level0_row30\" class=\"row_heading level0 row30\" >30</th>\n",
              "      <td id=\"T_f66a4_row30_col0\" class=\"data row30 col0\" >Operación Rosario: los primeros argentinos que desembarcaron en las islas recuerdan su historia</td>\n",
              "      <td id=\"T_f66a4_row30_col1\" class=\"data row30 col1\" >Neutro</td>\n",
              "    </tr>\n",
              "    <tr>\n",
              "      <th id=\"T_f66a4_level0_row31\" class=\"row_heading level0 row31\" >31</th>\n",
              "      <td id=\"T_f66a4_row31_col0\" class=\"data row31 col0\" >Así fueron los tres días de acampe en la 9 de julio: caos de tránsito, carpas y despliegue policial</td>\n",
              "      <td id=\"T_f66a4_row31_col1\" class=\"data row31 col1\" >Negativo</td>\n",
              "    </tr>\n",
              "    <tr>\n",
              "      <th id=\"T_f66a4_level0_row32\" class=\"row_heading level0 row32\" >32</th>\n",
              "      <td id=\"T_f66a4_row32_col0\" class=\"data row32 col0\" >El testimonio de las enfermeras que asistieron a los heridos en la guerra de Malvinas: \"Todavía recordamos el dolor de los soldados\"</td>\n",
              "      <td id=\"T_f66a4_row32_col1\" class=\"data row32 col1\" >Negativo</td>\n",
              "    </tr>\n",
              "    <tr>\n",
              "      <th id=\"T_f66a4_level0_row33\" class=\"row_heading level0 row33\" >33</th>\n",
              "      <td id=\"T_f66a4_row33_col0\" class=\"data row33 col0\" >Murió en la guerra y sus padres conservan su habitación intacta: “Es nuestro templo”</td>\n",
              "      <td id=\"T_f66a4_row33_col1\" class=\"data row33 col1\" >Positivo</td>\n",
              "    </tr>\n",
              "    <tr>\n",
              "      <th id=\"T_f66a4_level0_row34\" class=\"row_heading level0 row34\" >34</th>\n",
              "      <td id=\"T_f66a4_row34_col0\" class=\"data row34 col0\" >“Nos están matando\": por los piquetes, cada vez más comerciantes cierran sus locales en Avenida de Mayo</td>\n",
              "      <td id=\"T_f66a4_row34_col1\" class=\"data row34 col1\" >Negativo</td>\n",
              "    </tr>\n",
              "    <tr>\n",
              "      <th id=\"T_f66a4_level0_row35\" class=\"row_heading level0 row35\" >35</th>\n",
              "      <td id=\"T_f66a4_row35_col0\" class=\"data row35 col0\" >Tres soldados elegidos por los militares para ser la cara de la guerra cuentan la verdadera historia</td>\n",
              "      <td id=\"T_f66a4_row35_col1\" class=\"data row35 col1\" >Neutro</td>\n",
              "    </tr>\n",
              "    <tr>\n",
              "      <th id=\"T_f66a4_level0_row36\" class=\"row_heading level0 row36\" >36</th>\n",
              "      <td id=\"T_f66a4_row36_col0\" class=\"data row36 col0\" >El barrio del olvido: se inauguró hace 11 años en José C. Paz y terminó en un abandono absoluto</td>\n",
              "      <td id=\"T_f66a4_row36_col1\" class=\"data row36 col1\" >Negativo</td>\n",
              "    </tr>\n",
              "    <tr>\n",
              "      <th id=\"T_f66a4_level0_row37\" class=\"row_heading level0 row37\" >37</th>\n",
              "      <td id=\"T_f66a4_row37_col0\" class=\"data row37 col0\" >Diez días como un yerbatero: la vida de los cosecheros y el injusto reparto del fruto de su esfuerzo</td>\n",
              "      <td id=\"T_f66a4_row37_col1\" class=\"data row37 col1\" >Negativo</td>\n",
              "    </tr>\n",
              "    <tr>\n",
              "      <th id=\"T_f66a4_level0_row38\" class=\"row_heading level0 row38\" >38</th>\n",
              "      <td id=\"T_f66a4_row38_col0\" class=\"data row38 col0\" >Comer de las sobras: viven en la pobreza extrema y juntan de la basura para alimentar a los chicos</td>\n",
              "      <td id=\"T_f66a4_row38_col1\" class=\"data row38 col1\" >Negativo</td>\n",
              "    </tr>\n",
              "    <tr>\n",
              "      <th id=\"T_f66a4_level0_row39\" class=\"row_heading level0 row39\" >39</th>\n",
              "      <td id=\"T_f66a4_row39_col0\" class=\"data row39 col0\" >Volvió de Malvinas, pero no recibió su medalla: 40 años después la encontró gracias a un colectivero</td>\n",
              "      <td id=\"T_f66a4_row39_col1\" class=\"data row39 col1\" >Neutro</td>\n",
              "    </tr>\n",
              "    <tr>\n",
              "      <th id=\"T_f66a4_level0_row40\" class=\"row_heading level0 row40\" >40</th>\n",
              "      <td id=\"T_f66a4_row40_col0\" class=\"data row40 col0\" >Entrevista con Canticuénticos, el grupo favorito de los chicos cuya canción ayudó en casos de abuso</td>\n",
              "      <td id=\"T_f66a4_row40_col1\" class=\"data row40 col1\" >Neutro</td>\n",
              "    </tr>\n",
              "    <tr>\n",
              "      <th id=\"T_f66a4_level0_row41\" class=\"row_heading level0 row41\" >41</th>\n",
              "      <td id=\"T_f66a4_row41_col0\" class=\"data row41 col0\" >La bronca de los vecinos de Merlo, que viven a merced de la mafia de los cañitos del medidor de gas</td>\n",
              "      <td id=\"T_f66a4_row41_col1\" class=\"data row41 col1\" >Negativo</td>\n",
              "    </tr>\n",
              "    <tr>\n",
              "      <th id=\"T_f66a4_level0_row42\" class=\"row_heading level0 row42\" >42</th>\n",
              "      <td id=\"T_f66a4_row42_col0\" class=\"data row42 col0\" >TN en Qatar: guía para saber cómo es el viaje a la casa del Mundial 2022</td>\n",
              "      <td id=\"T_f66a4_row42_col1\" class=\"data row42 col1\" >Neutro</td>\n",
              "    </tr>\n",
              "    <tr>\n",
              "      <th id=\"T_f66a4_level0_row43\" class=\"row_heading level0 row43\" >43</th>\n",
              "      <td id=\"T_f66a4_row43_col0\" class=\"data row43 col0\" >La modelo afroargentina que brilla en las paserales y en el hip hop: \"Es mi venganza\"</td>\n",
              "      <td id=\"T_f66a4_row43_col1\" class=\"data row43 col1\" >Neutro</td>\n",
              "    </tr>\n",
              "    <tr>\n",
              "      <th id=\"T_f66a4_level0_row44\" class=\"row_heading level0 row44\" >44</th>\n",
              "      <td id=\"T_f66a4_row44_col0\" class=\"data row44 col0\" >Las víctimas del Estafador Argentino de Tinder viven en pánico: “Roby” pidió salir en libertad</td>\n",
              "      <td id=\"T_f66a4_row44_col1\" class=\"data row44 col1\" >Negativo</td>\n",
              "    </tr>\n",
              "    <tr>\n",
              "      <th id=\"T_f66a4_level0_row45\" class=\"row_heading level0 row45\" >45</th>\n",
              "      <td id=\"T_f66a4_row45_col0\" class=\"data row45 col0\" >Se enamoraron mientras él hacía el servicio militar en Corea y se casaron en Florencio Varela</td>\n",
              "      <td id=\"T_f66a4_row45_col1\" class=\"data row45 col1\" >Neutro</td>\n",
              "    </tr>\n",
              "    <tr>\n",
              "      <th id=\"T_f66a4_level0_row46\" class=\"row_heading level0 row46\" >46</th>\n",
              "      <td id=\"T_f66a4_row46_col0\" class=\"data row46 col0\" >Mujeres que cambiaron sus vidas gracias a un tatuaje sanador: de las cicatrices al arte</td>\n",
              "      <td id=\"T_f66a4_row46_col1\" class=\"data row46 col1\" >Positivo</td>\n",
              "    </tr>\n",
              "    <tr>\n",
              "      <th id=\"T_f66a4_level0_row47\" class=\"row_heading level0 row47\" >47</th>\n",
              "      <td id=\"T_f66a4_row47_col0\" class=\"data row47 col0\" >La historia de Gervasio, el jabalí que se cree perro: vive en Mar Azul y camina solo hacia la playa</td>\n",
              "      <td id=\"T_f66a4_row47_col1\" class=\"data row47 col1\" >Negativo</td>\n",
              "    </tr>\n",
              "    <tr>\n",
              "      <th id=\"T_f66a4_level0_row48\" class=\"row_heading level0 row48\" >48</th>\n",
              "      <td id=\"T_f66a4_row48_col0\" class=\"data row48 col0\" >Instagram: las nuevas funciones para los mensajes directos que llegan a la red social</td>\n",
              "      <td id=\"T_f66a4_row48_col1\" class=\"data row48 col1\" >Neutro</td>\n",
              "    </tr>\n",
              "    <tr>\n",
              "      <th id=\"T_f66a4_level0_row49\" class=\"row_heading level0 row49\" >49</th>\n",
              "      <td id=\"T_f66a4_row49_col0\" class=\"data row49 col0\" >Geraldine La Rosa, la esposa de Gallardo, desmintió el noviazgo entre el técnico y Alina Moine</td>\n",
              "      <td id=\"T_f66a4_row49_col1\" class=\"data row49 col1\" >Neutro</td>\n",
              "    </tr>\n",
              "  </tbody>\n",
              "</table>\n"
            ]
          },
          "metadata": {}
        }
      ]
    },
    {
      "cell_type": "markdown",
      "source": [
        "Para terminar, vemos hay de cada tipo y hacemos un gráfico de barras"
      ],
      "metadata": {
        "id": "vjCWZHpz8hWe"
      }
    },
    {
      "cell_type": "code",
      "source": [
        "print(df.SentimientoDetectado.value_counts())"
      ],
      "metadata": {
        "colab": {
          "base_uri": "https://localhost:8080/"
        },
        "id": "N4lwW3b51h-7",
        "outputId": "54235a25-c52c-40be-a119-1c6396a97279"
      },
      "execution_count": 114,
      "outputs": [
        {
          "output_type": "stream",
          "name": "stdout",
          "text": [
            "Neutro      29\n",
            "Negativo    18\n",
            "Positivo     3\n",
            "Name: SentimientoDetectado, dtype: int64\n"
          ]
        }
      ]
    },
    {
      "cell_type": "code",
      "source": [
        "fig, ax = plt.subplots(figsize=(8, 8))\n",
        "counts = df.SentimientoDetectado.value_counts(normalize=True) * 100\n",
        "clrs = ['Blue','Red','Green']\n",
        "sns.barplot(x=counts.index, y=counts, ax=ax, palette=clrs).set_title('Sentimiento de los titulares del día, porcentajes')\n",
        "ax.set_xticklabels(['Neutro', 'Negativo', 'Positivo'])\n",
        "ax.set_ylabel(\"Percentage\")\n",
        "\n",
        "plt.show()"
      ],
      "metadata": {
        "colab": {
          "base_uri": "https://localhost:8080/",
          "height": 499
        },
        "id": "0Ce54bw47wjm",
        "outputId": "656f8b47-3aab-4849-977e-02af7a0b73cc"
      },
      "execution_count": 115,
      "outputs": [
        {
          "output_type": "display_data",
          "data": {
            "text/plain": [
              "<Figure size 576x576 with 1 Axes>"
            ],
            "image/png": "[encoded data removed]"
          },
          "metadata": {
            "needs_background": "light"
          }
        }
      ]
    }
  ]
}